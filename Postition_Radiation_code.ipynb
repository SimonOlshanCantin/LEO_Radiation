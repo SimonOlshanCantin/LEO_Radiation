{
  "nbformat": 4,
  "nbformat_minor": 0,
  "metadata": {
    "colab": {
      "name": "Postition_Radiation_code",
      "provenance": [],
      "authorship_tag": "ABX9TyOj4GMaa98I6xjzEyDPoW3v",
      "include_colab_link": true
    },
    "kernelspec": {
      "name": "python3",
      "display_name": "Python 3"
    },
    "language_info": {
      "name": "python"
    }
  },
  "cells": [
    {
      "cell_type": "markdown",
      "metadata": {
        "id": "view-in-github",
        "colab_type": "text"
      },
      "source": [
        "<a href=\"https://colab.research.google.com/github/SimonOlshanCantin/Ok/blob/main/Postition_Radiation_code.ipynb\" target=\"_parent\"><img src=\"https://colab.research.google.com/assets/colab-badge.svg\" alt=\"Open In Colab\"/></a>"
      ]
    },
    {
      "cell_type": "code",
      "source": [
        "!pip install git+https://github.com/nasa/radbelt.git"
      ],
      "metadata": {
        "colab": {
          "base_uri": "https://localhost:8080/"
        },
        "id": "dll9MDtsakLN",
        "outputId": "15811b2a-f0a8-48ba-e6ce-bc1cf6b11239"
      },
      "execution_count": 1,
      "outputs": [
        {
          "output_type": "stream",
          "name": "stdout",
          "text": [
            "Looking in indexes: https://pypi.org/simple, https://us-python.pkg.dev/colab-wheels/public/simple/\n",
            "Collecting git+https://github.com/nasa/radbelt.git\n",
            "  Cloning https://github.com/nasa/radbelt.git to /tmp/pip-req-build-5xeeswdr\n",
            "  Running command git clone -q https://github.com/nasa/radbelt.git /tmp/pip-req-build-5xeeswdr\n",
            "  Installing build dependencies ... \u001b[?25l\u001b[?25hdone\n",
            "  Getting requirements to build wheel ... \u001b[?25l\u001b[?25hdone\n",
            "    Preparing wheel metadata ... \u001b[?25l\u001b[?25hdone\n",
            "Requirement already satisfied: astropy in /usr/local/lib/python3.7/dist-packages (from radbelt==0.1.0) (4.3.1)\n",
            "Requirement already satisfied: numpy>=1.20.0 in /usr/local/lib/python3.7/dist-packages (from radbelt==0.1.0) (1.21.6)\n",
            "Requirement already satisfied: importlib-metadata in /usr/local/lib/python3.7/dist-packages (from astropy->radbelt==0.1.0) (4.11.4)\n",
            "Requirement already satisfied: pyerfa>=1.7.3 in /usr/local/lib/python3.7/dist-packages (from astropy->radbelt==0.1.0) (2.0.0.1)\n",
            "Requirement already satisfied: typing-extensions>=3.6.4 in /usr/local/lib/python3.7/dist-packages (from importlib-metadata->astropy->radbelt==0.1.0) (4.1.1)\n",
            "Requirement already satisfied: zipp>=0.5 in /usr/local/lib/python3.7/dist-packages (from importlib-metadata->astropy->radbelt==0.1.0) (3.8.0)\n",
            "Building wheels for collected packages: radbelt\n",
            "  Building wheel for radbelt (PEP 517) ... \u001b[?25l\u001b[?25hdone\n",
            "  Created wheel for radbelt: filename=radbelt-0.1.0-cp37-cp37m-linux_x86_64.whl size=209565 sha256=dd27f6070ea53a54847d73f953ccd520c628cd5dfb42d546c8b508839e3453e7\n",
            "  Stored in directory: /tmp/pip-ephem-wheel-cache-uk13ssjf/wheels/fd/52/6b/77fd56822006682f4144bcca2875fd491ab82f8db490071457\n",
            "Successfully built radbelt\n",
            "Installing collected packages: radbelt\n",
            "Successfully installed radbelt-0.1.0\n"
          ]
        }
      ]
    },
    {
      "cell_type": "code",
      "source": [
        "from radbelt import get_flux\n",
        "from astropy import units as u\n",
        "from astropy.coordinates import EarthLocation\n",
        "from astropy.time import Time\n",
        "import numpy as np   \n",
        "import pandas as pd \n",
        "import math as mt\n",
        "import matplotlib.pyplot as plt\n",
        "from google.colab import drive\n",
        "drive.mount('/content/drive')"
      ],
      "metadata": {
        "colab": {
          "base_uri": "https://localhost:8080/"
        },
        "id": "HpGp64l_SRih",
        "outputId": "1781806a-a911-4df7-c477-192998957e66"
      },
      "execution_count": 47,
      "outputs": [
        {
          "output_type": "stream",
          "name": "stdout",
          "text": [
            "Drive already mounted at /content/drive; to attempt to forcibly remount, call drive.mount(\"/content/drive\", force_remount=True).\n"
          ]
        }
      ]
    },
    {
      "cell_type": "code",
      "source": [
        "#User inputs: coordinates, energy, date\n",
        "\n",
        "for latitude in np.arange(-50,-40,0.5):\n",
        "  coords = EarthLocation(latitude * u.deg, -30 * u.deg, 800 * u.km)     #presumeabily latitude, longitude, altitude? 'u' 4 universal? When km^ flux^ -> prob altitude\n",
        "  time = Time('2022-03-01')\n",
        "  energy = 20 * u.MeV\n",
        "#actual function\n",
        "  flux = get_flux(coords, time, energy, 'p', 'max')    \n",
        "#Plotting like Ronald Reagan baby\n",
        "  plt.scatter(latitude, flux) \n",
        "  plt.xlabel('latitude')\n",
        "  plt.ylabel('flux (1/cm2 s)')\n",
        "  plt.title('latitude vs flux at '+ str(energy))\n",
        "  plt.grid(visible = True)\n",
        "else:\n",
        "  plt.show()                            "
      ],
      "metadata": {
        "colab": {
          "base_uri": "https://localhost:8080/",
          "height": 295
        },
        "id": "krVTIGkDSg_U",
        "outputId": "4f4241da-847f-4c09-da4e-6ffba5d399f6"
      },
      "execution_count": 49,
      "outputs": [
        {
          "output_type": "display_data",
          "data": {
            "text/plain": [
              "<Figure size 432x288 with 1 Axes>"
            ],
            "image/png": "[encoded data removed]"
          },
          "metadata": {
            "needs_background": "light"
          }
        }
      ]
    }
  ]
}