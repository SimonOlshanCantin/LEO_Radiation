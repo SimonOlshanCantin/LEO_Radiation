{
  "nbformat": 4,
  "nbformat_minor": 0,
  "metadata": {
    "colab": {
      "name": "Position_Radiation_code",
      "provenance": [],
      "authorship_tag": "ABX9TyMSJsSzCwjWUYCyCFGhleXC",
      "include_colab_link": true
    },
    "kernelspec": {
      "name": "python3",
      "display_name": "Python 3"
    },
    "language_info": {
      "name": "python"
    }
  },
  "cells": [
    {
      "cell_type": "markdown",
      "metadata": {
        "id": "view-in-github",
        "colab_type": "text"
      },
      "source": [
        "<a href=\"https://colab.research.google.com/github/SimonOlshanCantin/Ok/blob/main/Position_Radiation_code.ipynb\" target=\"_parent\"><img src=\"https://colab.research.google.com/assets/colab-badge.svg\" alt=\"Open In Colab\"/></a>"
      ]
    },
    {
      "cell_type": "code",
      "source": [
        "#install radiation simulator\n",
        "!pip install git+https://github.com/nasa/radbelt.git  \n",
        "#install orbit simulator (old commit that works w python 3.7)\n",
        "!pip install git+https://github.com/pytroll/pyorbital.git@cbe67e2f1136b5fb1fe6935f628845315abb6886  "
      ],
      "metadata": {
        "colab": {
          "base_uri": "https://localhost:8080/"
        },
        "id": "dll9MDtsakLN",
        "outputId": "d2e2215f-435e-4beb-97a6-e6af2271709e"
      },
      "execution_count": 4,
      "outputs": [
        {
          "output_type": "stream",
          "name": "stdout",
          "text": [
            "Looking in indexes: https://pypi.org/simple, https://us-python.pkg.dev/colab-wheels/public/simple/\n",
            "Collecting git+https://github.com/nasa/radbelt.git\n",
            "  Cloning https://github.com/nasa/radbelt.git to /tmp/pip-req-build-khkzj03q\n",
            "  Running command git clone -q https://github.com/nasa/radbelt.git /tmp/pip-req-build-khkzj03q\n",
            "  Installing build dependencies ... \u001b[?25l\u001b[?25hdone\n",
            "  Getting requirements to build wheel ... \u001b[?25l\u001b[?25hdone\n",
            "    Preparing wheel metadata ... \u001b[?25l\u001b[?25hdone\n",
            "Requirement already satisfied: astropy in /usr/local/lib/python3.7/dist-packages (from radbelt==0.1.0) (4.3.1)\n",
            "Requirement already satisfied: numpy>=1.20.0 in /usr/local/lib/python3.7/dist-packages (from radbelt==0.1.0) (1.21.6)\n",
            "Requirement already satisfied: pyerfa>=1.7.3 in /usr/local/lib/python3.7/dist-packages (from astropy->radbelt==0.1.0) (2.0.0.1)\n",
            "Requirement already satisfied: importlib-metadata in /usr/local/lib/python3.7/dist-packages (from astropy->radbelt==0.1.0) (4.11.4)\n",
            "Requirement already satisfied: zipp>=0.5 in /usr/local/lib/python3.7/dist-packages (from importlib-metadata->astropy->radbelt==0.1.0) (3.8.0)\n",
            "Requirement already satisfied: typing-extensions>=3.6.4 in /usr/local/lib/python3.7/dist-packages (from importlib-metadata->astropy->radbelt==0.1.0) (4.1.1)\n",
            "Looking in indexes: https://pypi.org/simple, https://us-python.pkg.dev/colab-wheels/public/simple/\n",
            "Collecting git+https://github.com/pytroll/pyorbital.git@cbe67e2f1136b5fb1fe6935f628845315abb6886\n",
            "  Cloning https://github.com/pytroll/pyorbital.git (to revision cbe67e2f1136b5fb1fe6935f628845315abb6886) to /tmp/pip-req-build-q7htaf58\n",
            "  Running command git clone -q https://github.com/pytroll/pyorbital.git /tmp/pip-req-build-q7htaf58\n",
            "  Running command git rev-parse -q --verify 'sha^cbe67e2f1136b5fb1fe6935f628845315abb6886'\n",
            "  Running command git fetch -q https://github.com/pytroll/pyorbital.git cbe67e2f1136b5fb1fe6935f628845315abb6886\n",
            "  Running command git checkout -q cbe67e2f1136b5fb1fe6935f628845315abb6886\n",
            "Requirement already satisfied: numpy>=1.19.0 in /usr/local/lib/python3.7/dist-packages (from pyorbital==1.6.1+58.gcbe67e2) (1.21.6)\n",
            "Requirement already satisfied: scipy in /usr/local/lib/python3.7/dist-packages (from pyorbital==1.6.1+58.gcbe67e2) (1.4.1)\n",
            "Requirement already satisfied: requests in /usr/local/lib/python3.7/dist-packages (from pyorbital==1.6.1+58.gcbe67e2) (2.23.0)\n",
            "Requirement already satisfied: urllib3!=1.25.0,!=1.25.1,<1.26,>=1.21.1 in /usr/local/lib/python3.7/dist-packages (from requests->pyorbital==1.6.1+58.gcbe67e2) (1.24.3)\n",
            "Requirement already satisfied: certifi>=2017.4.17 in /usr/local/lib/python3.7/dist-packages (from requests->pyorbital==1.6.1+58.gcbe67e2) (2022.6.15)\n",
            "Requirement already satisfied: idna<3,>=2.5 in /usr/local/lib/python3.7/dist-packages (from requests->pyorbital==1.6.1+58.gcbe67e2) (2.10)\n",
            "Requirement already satisfied: chardet<4,>=3.0.2 in /usr/local/lib/python3.7/dist-packages (from requests->pyorbital==1.6.1+58.gcbe67e2) (3.0.4)\n",
            "Building wheels for collected packages: pyorbital\n",
            "  Building wheel for pyorbital (setup.py) ... \u001b[?25l\u001b[?25hdone\n",
            "  Created wheel for pyorbital: filename=pyorbital-1.6.1+58.gcbe67e2-py2.py3-none-any.whl size=66874 sha256=cf51d9b5cf255d84e73e6e10461dc3a290e83515866ed43b8f52928604ac0515\n",
            "  Stored in directory: /root/.cache/pip/wheels/35/f1/db/4f7bd1c3bdcfdc50d9544a4602dcb9ed54a418eb4445908721\n",
            "Successfully built pyorbital\n",
            "Installing collected packages: pyorbital\n",
            "Successfully installed pyorbital-1.6.1+58.gcbe67e2\n"
          ]
        }
      ]
    },
    {
      "cell_type": "code",
      "source": [
        "from radbelt import get_flux\n",
        "from astropy import units as u\n",
        "from astropy.coordinates import EarthLocation\n",
        "from astropy.time import Time\n",
        "from pyorbital.orbital import Orbital\n",
        "from datetime import datetime\n",
        "import numpy as np   \n",
        "import pandas as pd \n",
        "import math as mt\n",
        "import matplotlib.pyplot as plt\n",
        "from google.colab import drive\n",
        "drive.mount('/content/drive')"
      ],
      "metadata": {
        "colab": {
          "base_uri": "https://localhost:8080/"
        },
        "id": "HpGp64l_SRih",
        "outputId": "c6700489-21c0-48ae-ecb5-18aa6e33ccc2"
      },
      "execution_count": 5,
      "outputs": [
        {
          "output_type": "stream",
          "name": "stdout",
          "text": [
            "Mounted at /content/drive\n"
          ]
        }
      ]
    },
    {
      "cell_type": "code",
      "source": [
        "#User inputs: coordinates, energy, date\n",
        "for latitude in np.arange(-50,-40,0.5):\n",
        "  coords = EarthLocation(latitude * u.deg, -30 * u.deg, 800 * u.km)     #presumeabily latitude, longitude, altitude? 'u' 4 universal? When km^ flux^ -> prob altitude\n",
        "  time = Time('2022-03-01')\n",
        "  energy = 20 * u.MeV\n",
        "\n",
        "#actual function\n",
        "  flux = get_flux(coords, time, energy, 'p', 'max')    \n",
        "#Plotting like Ronald Reagan baby\n",
        "  plt.scatter(latitude, flux) \n",
        "  plt.xlabel('latitude')\n",
        "  plt.ylabel('flux (1/cm2 s)')\n",
        "  plt.title('latitude vs flux at '+ str(energy))\n",
        "  plt.grid(visible = True)\n",
        "else:\n",
        "  plt.show()                            "
      ],
      "metadata": {
        "colab": {
          "base_uri": "https://localhost:8080/",
          "height": 295
        },
        "id": "krVTIGkDSg_U",
        "outputId": "7239e317-f25b-4045-c1f7-eddaea01012f"
      },
      "execution_count": null,
      "outputs": [
        {
          "output_type": "display_data",
          "data": {
            "text/plain": [
              "<Figure size 432x288 with 1 Axes>"
            ],
            "image/png": "[encoded data removed]"
          },
          "metadata": {
            "needs_background": "light"
          }
        }
      ]
    },
    {
      "cell_type": "markdown",
      "source": [
        "#**Goal**\n",
        "output: latitude vs longitude map w radiation represented by a color gradient"
      ],
      "metadata": {
        "id": "rRg4sDr3Idy_"
      }
    },
    {
      "cell_type": "code",
      "source": [
        "#inputs:\n",
        "altitude = 800\n",
        "energy = 1 * u.MeV\n",
        "time = Time('2022-03-01')\n",
        "jump_size = 1   #this doesn't neccessarily have to be an input but i had a dream about it so here it is. Describes the step size moving along long/lat lines\n",
        "\n",
        "#define our three empty lists\n",
        "latitude_list = []\n",
        "longitude_list = []\n",
        "flux_list = []\n",
        "\n",
        "#create an empty dictionary\n",
        "data = {'Latitudes': latitude_list,'Longitudes': longitude_list, 'Fluxes':flux_list}\n",
        "\n",
        "for longitude in np.arange(-180,180,jump_size):   #we want to go down each longitude line, taking 0.5 (2atm) degree steps -> we can find radiation at every intersection\n",
        "  for latitude in np.arange(-90,90,jump_size):\n",
        "    latitude_list.append(latitude)    #append new latitude to latitude list\n",
        "    longitude_list.append(longitude)  #append SAME longitude to longitude lists -> keeps all lists the same lenght as radiation list, which is good \n",
        "                                      # because when we plot we're going to want a list of (x,y,z) co-ordinates\n",
        "    coords = EarthLocation(longitude * u.deg, latitude * u.deg, altitude * u.km)\n",
        "    flux = get_flux(coords, time, energy, 'p', 'max')       #find flux at those coordinates\n",
        "\n",
        "    flux_list.append(flux)       #append flux to the end of flux list -> dataframe should have: latitude, longitude, flux (x,y,z)\n",
        "\n",
        "    data = {'Latitudes': latitude_list,'Longitudes': longitude_list, 'Fluxes':flux_list} #save list updates into our dictionary    \n",
        "else:\n",
        "  datamap = pd.DataFrame(data)  #save dictionary as a dataframe\n",
        "  #print(datamap)    #just checking\n",
        "  color_array = np.array(datamap['Fluxes']) #convert flux column of dataframe into numpy array\n",
        "  unitless_flux_list = []       #create empty list\n",
        "\n",
        "  for i in color_array.flat:\n",
        "    unitless_flux_list.append(i.value)  #fill empty list with unitless flux values\n",
        "  else:\n",
        "    #all this is just plotting    \n",
        "    #fig = plt.figure(figsize=(10, 10)) \n",
        "    plt.scatter(datamap['Longitudes'], datamap['Latitudes'],c = unitless_flux_list, cmap=\"hot_r\") \n",
        "    #^plots! x is longitude, y is latitude, color is flux\n",
        "    plt.colorbar()\n",
        "    plt.xlabel('Longitude')          \n",
        "    plt.ylabel('Latitude')\n",
        "    plt.title('Flux Map of ' + str(energy) + ' protons at ' + str(altitude) + 'km on ' + str(time))\n",
        "    plt.show()"
      ],
      "metadata": {
        "colab": {
          "base_uri": "https://localhost:8080/",
          "height": 331
        },
        "id": "z4x7PFJ8LEwA",
        "outputId": "ac97f957-86b2-48d3-e36f-02dd366291c9"
      },
      "execution_count": null,
      "outputs": [
        {
          "output_type": "stream",
          "name": "stderr",
          "text": [
            "/usr/local/lib/python3.7/dist-packages/numpy/lib/function_base.py:2246: RuntimeWarning: invalid value encountered in aep8 (vectorized)\n",
            "  outputs = ufunc(*inputs)\n"
          ]
        },
        {
          "output_type": "display_data",
          "data": {
            "text/plain": [
              "<Figure size 432x288 with 2 Axes>"
            ],
            "image/png": "[encoded data removed]"
          },
          "metadata": {
            "needs_background": "light"
          }
        }
      ]
    },
    {
      "cell_type": "markdown",
      "source": [
        "#**Goal**\n",
        "**input:** satalite, time\n",
        "\n",
        "**Output:** Position, df w energy vs flux"
      ],
      "metadata": {
        "id": "BPwQFnHfp0XD"
      }
    },
    {
      "cell_type": "markdown",
      "source": [
        "#**Goal:**\n",
        "**Inputs:** altitude, inclination, trajectory duration, start date (simplified by removing ellipticity, start time, and argument of perigee\n",
        "\n",
        "**Outputs:** flux at a specific energy as a function of time, measured ~every 20 minutes\n",
        "\n",
        "**NB:** date changes as time changes"
      ],
      "metadata": {
        "id": "8m4GMw-_FSFV"
      }
    }
  ]
}