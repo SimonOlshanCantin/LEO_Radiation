{
  "nbformat": 4,
  "nbformat_minor": 0,
  "metadata": {
    "colab": {
      "name": "Position_Radiation_code",
      "provenance": [],
      "authorship_tag": "ABX9TyN69Kj/4/ZeVBI+V3Fhy8p9",
      "include_colab_link": true
    },
    "kernelspec": {
      "name": "python3",
      "display_name": "Python 3"
    },
    "language_info": {
      "name": "python"
    }
  },
  "cells": [
    {
      "cell_type": "markdown",
      "metadata": {
        "id": "view-in-github",
        "colab_type": "text"
      },
      "source": [
        "<a href=\"https://colab.research.google.com/github/SimonOlshanCantin/Ok/blob/main/Position_Radiation_code.ipynb\" target=\"_parent\"><img src=\"https://colab.research.google.com/assets/colab-badge.svg\" alt=\"Open In Colab\"/></a>"
      ]
    },
    {
      "cell_type": "code",
      "source": [
        "#install radiation simulator\n",
        "!pip install git+https://github.com/nasa/radbelt.git  \n",
        "#install orbit simulator (old commit that works w python 3.7)\n",
        "!pip install git+https://github.com/pytroll/pyorbital.git@cbe67e2f1136b5fb1fe6935f628845315abb6886  "
      ],
      "metadata": {
        "colab": {
          "base_uri": "https://localhost:8080/"
        },
        "id": "dll9MDtsakLN",
        "outputId": "2eebd4c6-3ed7-484f-bb26-1d0a0282223e"
      },
      "execution_count": 24,
      "outputs": [
        {
          "output_type": "stream",
          "name": "stdout",
          "text": [
            "Looking in indexes: https://pypi.org/simple, https://us-python.pkg.dev/colab-wheels/public/simple/\n",
            "Collecting git+https://github.com/nasa/radbelt.git\n",
            "  Cloning https://github.com/nasa/radbelt.git to /tmp/pip-req-build-uroobc4f\n",
            "  Running command git clone -q https://github.com/nasa/radbelt.git /tmp/pip-req-build-uroobc4f\n",
            "  Installing build dependencies ... \u001b[?25l\u001b[?25hdone\n",
            "  Getting requirements to build wheel ... \u001b[?25l\u001b[?25hdone\n",
            "    Preparing wheel metadata ... \u001b[?25l\u001b[?25hdone\n",
            "Requirement already satisfied: astropy in /usr/local/lib/python3.7/dist-packages (from radbelt==0.1.0) (4.3.1)\n",
            "Requirement already satisfied: numpy>=1.20.0 in /usr/local/lib/python3.7/dist-packages (from radbelt==0.1.0) (1.21.6)\n",
            "Requirement already satisfied: importlib-metadata in /usr/local/lib/python3.7/dist-packages (from astropy->radbelt==0.1.0) (4.12.0)\n",
            "Requirement already satisfied: pyerfa>=1.7.3 in /usr/local/lib/python3.7/dist-packages (from astropy->radbelt==0.1.0) (2.0.0.1)\n",
            "Requirement already satisfied: typing-extensions>=3.6.4 in /usr/local/lib/python3.7/dist-packages (from importlib-metadata->astropy->radbelt==0.1.0) (4.1.1)\n",
            "Requirement already satisfied: zipp>=0.5 in /usr/local/lib/python3.7/dist-packages (from importlib-metadata->astropy->radbelt==0.1.0) (3.8.0)\n",
            "Looking in indexes: https://pypi.org/simple, https://us-python.pkg.dev/colab-wheels/public/simple/\n",
            "Collecting git+https://github.com/pytroll/pyorbital.git@cbe67e2f1136b5fb1fe6935f628845315abb6886\n",
            "  Cloning https://github.com/pytroll/pyorbital.git (to revision cbe67e2f1136b5fb1fe6935f628845315abb6886) to /tmp/pip-req-build-0kcid7pl\n",
            "  Running command git clone -q https://github.com/pytroll/pyorbital.git /tmp/pip-req-build-0kcid7pl\n",
            "  Running command git rev-parse -q --verify 'sha^cbe67e2f1136b5fb1fe6935f628845315abb6886'\n",
            "  Running command git fetch -q https://github.com/pytroll/pyorbital.git cbe67e2f1136b5fb1fe6935f628845315abb6886\n",
            "  Running command git checkout -q cbe67e2f1136b5fb1fe6935f628845315abb6886\n",
            "Requirement already satisfied: numpy>=1.19.0 in /usr/local/lib/python3.7/dist-packages (from pyorbital==1.6.1+58.gcbe67e2) (1.21.6)\n",
            "Requirement already satisfied: scipy in /usr/local/lib/python3.7/dist-packages (from pyorbital==1.6.1+58.gcbe67e2) (1.7.3)\n",
            "Requirement already satisfied: requests in /usr/local/lib/python3.7/dist-packages (from pyorbital==1.6.1+58.gcbe67e2) (2.23.0)\n",
            "Requirement already satisfied: idna<3,>=2.5 in /usr/local/lib/python3.7/dist-packages (from requests->pyorbital==1.6.1+58.gcbe67e2) (2.10)\n",
            "Requirement already satisfied: certifi>=2017.4.17 in /usr/local/lib/python3.7/dist-packages (from requests->pyorbital==1.6.1+58.gcbe67e2) (2022.6.15)\n",
            "Requirement already satisfied: chardet<4,>=3.0.2 in /usr/local/lib/python3.7/dist-packages (from requests->pyorbital==1.6.1+58.gcbe67e2) (3.0.4)\n",
            "Requirement already satisfied: urllib3!=1.25.0,!=1.25.1,<1.26,>=1.21.1 in /usr/local/lib/python3.7/dist-packages (from requests->pyorbital==1.6.1+58.gcbe67e2) (1.24.3)\n"
          ]
        }
      ]
    },
    {
      "cell_type": "code",
      "source": [
        "from radbelt import get_flux\n",
        "from astropy import units as u\n",
        "from astropy.coordinates import EarthLocation\n",
        "from astropy.time import Time\n",
        "from pyorbital.orbital import Orbital\n",
        "from datetime import datetime\n",
        "import numpy as np   \n",
        "import pandas as pd \n",
        "import math as mt\n",
        "import matplotlib.pyplot as plt\n",
        "#from google.colab import drive\n",
        "#drive.mount('/content/drive')"
      ],
      "metadata": {
        "id": "HpGp64l_SRih"
      },
      "execution_count": 25,
      "outputs": []
    },
    {
      "cell_type": "code",
      "source": [
        "#User inputs: coordinates, energy, date\n",
        "for latitude in np.arange(-50,-40,0.5):\n",
        "  coords = EarthLocation(latitude * u.deg, -30 * u.deg, 800 * u.km)     #presumeabily latitude, longitude, altitude? 'u' 4 universal? When km^ flux^ -> prob altitude\n",
        "  time = Time('2022-03-01')\n",
        "  energy = 20 * u.MeV\n",
        "\n",
        "#actual function\n",
        "  flux = get_flux(coords, time, energy, 'p', 'max')    \n",
        "#Plotting like Ronald Reagan baby\n",
        "  plt.scatter(latitude, flux) \n",
        "  plt.xlabel('latitude')\n",
        "  plt.ylabel('flux (1/cm2 s)')\n",
        "  plt.title('latitude vs flux at '+ str(energy))\n",
        "  plt.grid(visible = True)\n",
        "else:\n",
        "  plt.show()                            "
      ],
      "metadata": {
        "colab": {
          "base_uri": "https://localhost:8080/",
          "height": 295
        },
        "id": "krVTIGkDSg_U",
        "outputId": "c1b6f300-ca1f-4ed8-e469-ce0b1e5ab5a3"
      },
      "execution_count": null,
      "outputs": [
        {
          "output_type": "display_data",
          "data": {
            "text/plain": [
              "<Figure size 432x288 with 1 Axes>"
            ],
            "image/png": "[encoded data removed]"
          },
          "metadata": {
            "needs_background": "light"
          }
        }
      ]
    },
    {
      "cell_type": "markdown",
      "source": [
        "#**Goal**\n",
        "output: latitude vs longitude map w radiation represented by a color gradient"
      ],
      "metadata": {
        "id": "rRg4sDr3Idy_"
      }
    },
    {
      "cell_type": "code",
      "source": [
        "#inputs:\n",
        "altitude = 800\n",
        "energy = 1 * u.MeV\n",
        "time = Time('2022-03-01')\n",
        "jump_size = 1   #this doesn't neccessarily have to be an input but i had a dream about it so here it is. Describes the step size moving along long/lat lines\n",
        "\n",
        "#define our three empty lists\n",
        "latitude_list = []\n",
        "longitude_list = []\n",
        "flux_list = []\n",
        "\n",
        "#create an empty dictionary\n",
        "data = {'Latitudes': latitude_list,'Longitudes': longitude_list, 'Fluxes':flux_list}\n",
        "\n",
        "for longitude in np.arange(-180,180,jump_size):   #we want to go down each longitude line, taking 0.5 (2atm) degree steps -> we can find radiation at every intersection\n",
        "  for latitude in np.arange(-90,90,jump_size):\n",
        "    latitude_list.append(latitude)    #append new latitude to latitude list\n",
        "    longitude_list.append(longitude)  #append SAME longitude to longitude lists -> keeps all lists the same lenght as radiation list, which is good \n",
        "                                      # because when we plot we're going to want a list of (x,y,z) co-ordinates\n",
        "    coords = EarthLocation(longitude * u.deg, latitude * u.deg, altitude * u.km)\n",
        "    flux = get_flux(coords, time, energy, 'p', 'max')       #find flux at those coordinates\n",
        "\n",
        "    flux_list.append(flux.value)       #append flux to the end of flux list -> dataframe should have: latitude, longitude, flux (x,y,z)\n",
        "\n",
        "    data = {'Latitudes': latitude_list,'Longitudes': longitude_list, 'Fluxes':flux_list} #save list updates into our dictionary    \n",
        "else:\n",
        "  datamap = pd.DataFrame(data)  #save dictionary as a dataframe\n",
        "\n",
        "  #all this is just plotting:    \n",
        "  plt.scatter(datamap['Longitudes'], datamap['Latitudes'],c = datamap['Fluxes'], cmap=\"hot_r\") #plots! x is longitude, y is latitude, color is flux\n",
        "  plt.colorbar()\n",
        "  plt.xlabel('Longitude')          \n",
        "  plt.ylabel('Latitude')\n",
        "  plt.title('Flux Map of ' + str(energy) + ' protons at ' + str(altitude) + 'km on ' + str(time))\n",
        "  plt.show()"
      ],
      "metadata": {
        "colab": {
          "base_uri": "https://localhost:8080/",
          "height": 498
        },
        "id": "z4x7PFJ8LEwA",
        "outputId": "c04bb205-3878-4d00-8244-3e78d144b289"
      },
      "execution_count": null,
      "outputs": [
        {
          "output_type": "stream",
          "name": "stderr",
          "text": [
            "/usr/local/lib/python3.7/dist-packages/numpy/lib/function_base.py:2246: RuntimeWarning: invalid value encountered in aep8 (vectorized)\n",
            "  outputs = ufunc(*inputs)\n"
          ]
        },
        {
          "output_type": "error",
          "ename": "KeyboardInterrupt",
          "evalue": "ignored",
          "traceback": [
            "\u001b[0;31m---------------------------------------------------------------------------\u001b[0m",
            "\u001b[0;31mKeyboardInterrupt\u001b[0m                         Traceback (most recent call last)",
            "\u001b[0;32m<ipython-input-24-3860aeb3c9cd>\u001b[0m in \u001b[0;36m<module>\u001b[0;34m()\u001b[0m\n\u001b[1;32m     19\u001b[0m                                       \u001b[0;31m# because when we plot we're going to want a list of (x,y,z) co-ordinates\u001b[0m\u001b[0;34m\u001b[0m\u001b[0;34m\u001b[0m\u001b[0;34m\u001b[0m\u001b[0m\n\u001b[1;32m     20\u001b[0m     \u001b[0mcoords\u001b[0m \u001b[0;34m=\u001b[0m \u001b[0mEarthLocation\u001b[0m\u001b[0;34m(\u001b[0m\u001b[0mlongitude\u001b[0m \u001b[0;34m*\u001b[0m \u001b[0mu\u001b[0m\u001b[0;34m.\u001b[0m\u001b[0mdeg\u001b[0m\u001b[0;34m,\u001b[0m \u001b[0mlatitude\u001b[0m \u001b[0;34m*\u001b[0m \u001b[0mu\u001b[0m\u001b[0;34m.\u001b[0m\u001b[0mdeg\u001b[0m\u001b[0;34m,\u001b[0m \u001b[0maltitude\u001b[0m \u001b[0;34m*\u001b[0m \u001b[0mu\u001b[0m\u001b[0;34m.\u001b[0m\u001b[0mkm\u001b[0m\u001b[0;34m)\u001b[0m\u001b[0;34m\u001b[0m\u001b[0;34m\u001b[0m\u001b[0m\n\u001b[0;32m---> 21\u001b[0;31m     \u001b[0mflux\u001b[0m \u001b[0;34m=\u001b[0m \u001b[0mget_flux\u001b[0m\u001b[0;34m(\u001b[0m\u001b[0mcoords\u001b[0m\u001b[0;34m,\u001b[0m \u001b[0mtime\u001b[0m\u001b[0;34m,\u001b[0m \u001b[0menergy\u001b[0m\u001b[0;34m,\u001b[0m \u001b[0;34m'p'\u001b[0m\u001b[0;34m,\u001b[0m \u001b[0;34m'max'\u001b[0m\u001b[0;34m)\u001b[0m       \u001b[0;31m#find flux at those coordinates\u001b[0m\u001b[0;34m\u001b[0m\u001b[0;34m\u001b[0m\u001b[0m\n\u001b[0m\u001b[1;32m     22\u001b[0m \u001b[0;34m\u001b[0m\u001b[0m\n\u001b[1;32m     23\u001b[0m     \u001b[0mflux_list\u001b[0m\u001b[0;34m.\u001b[0m\u001b[0mappend\u001b[0m\u001b[0;34m(\u001b[0m\u001b[0mflux\u001b[0m\u001b[0;34m.\u001b[0m\u001b[0mvalue\u001b[0m\u001b[0;34m)\u001b[0m       \u001b[0;31m#append flux to the end of flux list -> dataframe should have: latitude, longitude, flux (x,y,z)\u001b[0m\u001b[0;34m\u001b[0m\u001b[0;34m\u001b[0m\u001b[0m\n",
            "\u001b[0;32m/usr/local/lib/python3.7/dist-packages/radbelt/__init__.py\u001b[0m in \u001b[0;36mget_flux\u001b[0;34m(coords, time, energy, particle, solar)\u001b[0m\n\u001b[1;32m     78\u001b[0m                        \u001b[0mcoords\u001b[0m\u001b[0;34m.\u001b[0m\u001b[0mgeodetic\u001b[0m\u001b[0;34m.\u001b[0m\u001b[0mheight\u001b[0m\u001b[0;34m.\u001b[0m\u001b[0mto_value\u001b[0m\u001b[0;34m(\u001b[0m\u001b[0mu\u001b[0m\u001b[0;34m.\u001b[0m\u001b[0mkm\u001b[0m\u001b[0;34m)\u001b[0m\u001b[0;34m,\u001b[0m\u001b[0;34m\u001b[0m\u001b[0;34m\u001b[0m\u001b[0m\n\u001b[1;32m     79\u001b[0m                        time.utc.decimalyear)\n\u001b[0;32m---> 80\u001b[0;31m     \u001b[0mflux\u001b[0m \u001b[0;34m=\u001b[0m \u001b[0maep8\u001b[0m\u001b[0;34m(\u001b[0m\u001b[0menergy\u001b[0m\u001b[0;34m.\u001b[0m\u001b[0mto_value\u001b[0m\u001b[0;34m(\u001b[0m\u001b[0mu\u001b[0m\u001b[0;34m.\u001b[0m\u001b[0mMeV\u001b[0m\u001b[0;34m)\u001b[0m\u001b[0;34m,\u001b[0m \u001b[0mlvalue\u001b[0m\u001b[0;34m,\u001b[0m \u001b[0mbb0\u001b[0m\u001b[0;34m,\u001b[0m \u001b[0mparticle\u001b[0m\u001b[0;34m,\u001b[0m \u001b[0msolar\u001b[0m\u001b[0;34m)\u001b[0m\u001b[0;34m\u001b[0m\u001b[0;34m\u001b[0m\u001b[0m\n\u001b[0m\u001b[1;32m     81\u001b[0m     \u001b[0;32mreturn\u001b[0m \u001b[0mflux\u001b[0m \u001b[0;34m*\u001b[0m \u001b[0mu\u001b[0m\u001b[0;34m.\u001b[0m\u001b[0mcm\u001b[0m\u001b[0;34m**\u001b[0m\u001b[0;34m-\u001b[0m\u001b[0;36m2\u001b[0m \u001b[0;34m*\u001b[0m \u001b[0mu\u001b[0m\u001b[0;34m.\u001b[0m\u001b[0ms\u001b[0m\u001b[0;34m**\u001b[0m\u001b[0;34m-\u001b[0m\u001b[0;36m1\u001b[0m\u001b[0;34m\u001b[0m\u001b[0;34m\u001b[0m\u001b[0m\n",
            "\u001b[0;32m/usr/lib/python3.7/contextlib.py\u001b[0m in \u001b[0;36minner\u001b[0;34m(*args, **kwds)\u001b[0m\n\u001b[1;32m     72\u001b[0m         \u001b[0;32mdef\u001b[0m \u001b[0minner\u001b[0m\u001b[0;34m(\u001b[0m\u001b[0;34m*\u001b[0m\u001b[0margs\u001b[0m\u001b[0;34m,\u001b[0m \u001b[0;34m**\u001b[0m\u001b[0mkwds\u001b[0m\u001b[0;34m)\u001b[0m\u001b[0;34m:\u001b[0m\u001b[0;34m\u001b[0m\u001b[0;34m\u001b[0m\u001b[0m\n\u001b[1;32m     73\u001b[0m             \u001b[0;32mwith\u001b[0m \u001b[0mself\u001b[0m\u001b[0;34m.\u001b[0m\u001b[0m_recreate_cm\u001b[0m\u001b[0;34m(\u001b[0m\u001b[0;34m)\u001b[0m\u001b[0;34m:\u001b[0m\u001b[0;34m\u001b[0m\u001b[0;34m\u001b[0m\u001b[0m\n\u001b[0;32m---> 74\u001b[0;31m                 \u001b[0;32mreturn\u001b[0m \u001b[0mfunc\u001b[0m\u001b[0;34m(\u001b[0m\u001b[0;34m*\u001b[0m\u001b[0margs\u001b[0m\u001b[0;34m,\u001b[0m \u001b[0;34m**\u001b[0m\u001b[0mkwds\u001b[0m\u001b[0;34m)\u001b[0m\u001b[0;34m\u001b[0m\u001b[0;34m\u001b[0m\u001b[0m\n\u001b[0m\u001b[1;32m     75\u001b[0m         \u001b[0;32mreturn\u001b[0m \u001b[0minner\u001b[0m\u001b[0;34m\u001b[0m\u001b[0;34m\u001b[0m\u001b[0m\n\u001b[1;32m     76\u001b[0m \u001b[0;34m\u001b[0m\u001b[0m\n",
            "\u001b[0;32m/usr/local/lib/python3.7/dist-packages/numpy/lib/function_base.py\u001b[0m in \u001b[0;36m__call__\u001b[0;34m(self, *args, **kwargs)\u001b[0m\n\u001b[1;32m   2161\u001b[0m             \u001b[0mvargs\u001b[0m\u001b[0;34m.\u001b[0m\u001b[0mextend\u001b[0m\u001b[0;34m(\u001b[0m\u001b[0;34m[\u001b[0m\u001b[0mkwargs\u001b[0m\u001b[0;34m[\u001b[0m\u001b[0m_n\u001b[0m\u001b[0;34m]\u001b[0m \u001b[0;32mfor\u001b[0m \u001b[0m_n\u001b[0m \u001b[0;32min\u001b[0m \u001b[0mnames\u001b[0m\u001b[0;34m]\u001b[0m\u001b[0;34m)\u001b[0m\u001b[0;34m\u001b[0m\u001b[0;34m\u001b[0m\u001b[0m\n\u001b[1;32m   2162\u001b[0m \u001b[0;34m\u001b[0m\u001b[0m\n\u001b[0;32m-> 2163\u001b[0;31m         \u001b[0;32mreturn\u001b[0m \u001b[0mself\u001b[0m\u001b[0;34m.\u001b[0m\u001b[0m_vectorize_call\u001b[0m\u001b[0;34m(\u001b[0m\u001b[0mfunc\u001b[0m\u001b[0;34m=\u001b[0m\u001b[0mfunc\u001b[0m\u001b[0;34m,\u001b[0m \u001b[0margs\u001b[0m\u001b[0;34m=\u001b[0m\u001b[0mvargs\u001b[0m\u001b[0;34m)\u001b[0m\u001b[0;34m\u001b[0m\u001b[0;34m\u001b[0m\u001b[0m\n\u001b[0m\u001b[1;32m   2164\u001b[0m \u001b[0;34m\u001b[0m\u001b[0m\n\u001b[1;32m   2165\u001b[0m     \u001b[0;32mdef\u001b[0m \u001b[0m_get_ufunc_and_otypes\u001b[0m\u001b[0;34m(\u001b[0m\u001b[0mself\u001b[0m\u001b[0;34m,\u001b[0m \u001b[0mfunc\u001b[0m\u001b[0;34m,\u001b[0m \u001b[0margs\u001b[0m\u001b[0;34m)\u001b[0m\u001b[0;34m:\u001b[0m\u001b[0;34m\u001b[0m\u001b[0;34m\u001b[0m\u001b[0m\n",
            "\u001b[0;32m/usr/local/lib/python3.7/dist-packages/numpy/lib/function_base.py\u001b[0m in \u001b[0;36m_vectorize_call\u001b[0;34m(self, func, args)\u001b[0m\n\u001b[1;32m   2242\u001b[0m \u001b[0;34m\u001b[0m\u001b[0m\n\u001b[1;32m   2243\u001b[0m             \u001b[0;31m# Convert args to object arrays first\u001b[0m\u001b[0;34m\u001b[0m\u001b[0;34m\u001b[0m\u001b[0;34m\u001b[0m\u001b[0m\n\u001b[0;32m-> 2244\u001b[0;31m             \u001b[0minputs\u001b[0m \u001b[0;34m=\u001b[0m \u001b[0;34m[\u001b[0m\u001b[0masanyarray\u001b[0m\u001b[0;34m(\u001b[0m\u001b[0ma\u001b[0m\u001b[0;34m,\u001b[0m \u001b[0mdtype\u001b[0m\u001b[0;34m=\u001b[0m\u001b[0mobject\u001b[0m\u001b[0;34m)\u001b[0m \u001b[0;32mfor\u001b[0m \u001b[0ma\u001b[0m \u001b[0;32min\u001b[0m \u001b[0margs\u001b[0m\u001b[0;34m]\u001b[0m\u001b[0;34m\u001b[0m\u001b[0;34m\u001b[0m\u001b[0m\n\u001b[0m\u001b[1;32m   2245\u001b[0m \u001b[0;34m\u001b[0m\u001b[0m\n\u001b[1;32m   2246\u001b[0m             \u001b[0moutputs\u001b[0m \u001b[0;34m=\u001b[0m \u001b[0mufunc\u001b[0m\u001b[0;34m(\u001b[0m\u001b[0;34m*\u001b[0m\u001b[0minputs\u001b[0m\u001b[0;34m)\u001b[0m\u001b[0;34m\u001b[0m\u001b[0;34m\u001b[0m\u001b[0m\n",
            "\u001b[0;32m/usr/local/lib/python3.7/dist-packages/numpy/lib/function_base.py\u001b[0m in \u001b[0;36m<listcomp>\u001b[0;34m(.0)\u001b[0m\n\u001b[1;32m   2242\u001b[0m \u001b[0;34m\u001b[0m\u001b[0m\n\u001b[1;32m   2243\u001b[0m             \u001b[0;31m# Convert args to object arrays first\u001b[0m\u001b[0;34m\u001b[0m\u001b[0;34m\u001b[0m\u001b[0;34m\u001b[0m\u001b[0m\n\u001b[0;32m-> 2244\u001b[0;31m             \u001b[0minputs\u001b[0m \u001b[0;34m=\u001b[0m \u001b[0;34m[\u001b[0m\u001b[0masanyarray\u001b[0m\u001b[0;34m(\u001b[0m\u001b[0ma\u001b[0m\u001b[0;34m,\u001b[0m \u001b[0mdtype\u001b[0m\u001b[0;34m=\u001b[0m\u001b[0mobject\u001b[0m\u001b[0;34m)\u001b[0m \u001b[0;32mfor\u001b[0m \u001b[0ma\u001b[0m \u001b[0;32min\u001b[0m \u001b[0margs\u001b[0m\u001b[0;34m]\u001b[0m\u001b[0;34m\u001b[0m\u001b[0;34m\u001b[0m\u001b[0m\n\u001b[0m\u001b[1;32m   2245\u001b[0m \u001b[0;34m\u001b[0m\u001b[0m\n\u001b[1;32m   2246\u001b[0m             \u001b[0moutputs\u001b[0m \u001b[0;34m=\u001b[0m \u001b[0mufunc\u001b[0m\u001b[0;34m(\u001b[0m\u001b[0;34m*\u001b[0m\u001b[0minputs\u001b[0m\u001b[0;34m)\u001b[0m\u001b[0;34m\u001b[0m\u001b[0;34m\u001b[0m\u001b[0m\n",
            "\u001b[0;31mKeyboardInterrupt\u001b[0m: "
          ]
        }
      ]
    },
    {
      "cell_type": "markdown",
      "source": [
        "#**Goal**\n",
        "**input:** satalite, time\n",
        "\n",
        "**Output:** Position, df w energy vs flux"
      ],
      "metadata": {
        "id": "BPwQFnHfp0XD"
      }
    },
    {
      "cell_type": "code",
      "source": [
        "#Take TLE input file and output energy vs flux for a specific moment in time\n",
        "\n",
        "#input:\n",
        "satellite_name = ('SHIJIAN-6 05A (SJ-6 05A)')  #TLE found on https://celestrak.org/; to make your own create tle file then enter 'name', 'path/to/file' in to Orbital()\n",
        "date_entry = (2022,7,9,1,27) #FORMAT: year, month, day, hours, minutes\n",
        "\n",
        "\n",
        "orbit = Orbital(satellite_name) #Searches TLE file for object in quotes & gets its orbital information\n",
        "\n",
        "year, month, day, hours, minutes,  = date_entry\n",
        "date = datetime(year, month, day, hours, minutes) #datetime() makes the date readable  - but it won't take a tuple \n",
        "date_radbelt = Time(date) #Time() makes date readable for radbelt\n",
        "\n",
        "coords = orbit.get_lonlatalt(date)  #retrieves longitude latitude and altitude at specified time, assigns it to below touple\n",
        "lon, lat, alt = coords  #coords is a tuple. This line creates the variable and names each place in the list so it can be refreed to by a specific variable\n",
        "coords_radbelt = EarthLocation(lon * u.deg, lat * u.deg, alt * u.km) #makes coordinates useable for radbelt\n",
        "\n",
        "#This gives american style dates, btw. I'm like 80% sure\n",
        "print ('On '+ str(month) + '/' + str(day) + '/' + str(year) + ' the satallite has a longitude of ' + str(lon) + ' degrees, a latitude of ' + str(lat) + \" degrees and an alitude of \" + str(alt) + ' km')\n",
        "\n",
        "energy_list = []\n",
        "flux_list = []\n",
        "fe_dict = {'Flux': flux_list, 'Energy': energy_list}\n",
        "\n",
        "for energy in np.linspace(0.1,1000,2000):   #get flux vs energy for 2000 intervals btw 0.1 & 1000 Mev\n",
        "  flux = get_flux(coords_radbelt, date_radbelt, energy * u.MeV, 'p', 'max')\n",
        "  flux_list.append(flux.value)\n",
        "  energy_list.append(energy)\n",
        "\n",
        "else: #plot!\n",
        "  plt.scatter(energy_list,flux_list)\n"
      ],
      "metadata": {
        "colab": {
          "base_uri": "https://localhost:8080/",
          "height": 303
        },
        "id": "ZwOib7veexDO",
        "outputId": "f8c3921b-a12d-4778-c707-ccb83a9152ff"
      },
      "execution_count": null,
      "outputs": [
        {
          "output_type": "stream",
          "name": "stdout",
          "text": [
            "On 7/9/2022 the satallite has a longitude of 89.0857393723726 degrees, a latitude of 56.49811242617015 degrees and an alitude of 471.6285747826498 km\n"
          ]
        },
        {
          "output_type": "display_data",
          "data": {
            "text/plain": [
              "<Figure size 432x288 with 1 Axes>"
            ],
            "image/png": "[encoded data removed]"
          },
          "metadata": {
            "needs_background": "light"
          }
        }
      ]
    },
    {
      "cell_type": "markdown",
      "source": [
        "#**Goal:**\n",
        "**Inputs:** satallite tle, energy\n",
        "\n",
        "**Outputs:** flux at a specific energy as a function of time; map of the satallites tragectory as a function of time w color corresponding to flux -> df w time, lat, long, flux\n",
        "\n",
        "**NB:** date changes as time changes"
      ],
      "metadata": {
        "id": "8m4GMw-_FSFV"
      }
    },
    {
      "cell_type": "code",
      "source": [
        "#inputs:\n",
        "\n",
        "satellite_name = ('STARLINK-3317')  #TLE found on https://celestrak.org/; to make your own create tle file then enter 'name', 'path/to/file' in to Orbital()\n",
        "\n",
        "year = 2022\n",
        "month = 7\n",
        "day = 9\n",
        "hour = 1\n",
        "minute = 1\n",
        "\n",
        "#how long you're looking at the object for, in days. \n",
        "#(must not be long enough that we transition into a new year)\n",
        "measurement_period = 0.14\n",
        "\n",
        "#how often you're measuring, in minutes.\n",
        "measure_every = 1\n",
        "\n",
        "energy = 1\n",
        "\n",
        "#code:\n",
        "orbit = Orbital(satellite_name)\n",
        "\n",
        "timecount = measurement_period*24*60 #convert measurement period into minutes\n",
        "\n",
        "timecount_list = []  #create empty lists\n",
        "lon_list = []\n",
        "lat_list = []\n",
        "flux_list = []\n",
        "flux_list_unitless = []\n",
        "\n",
        "for timecount in np.arange(0,timecount,measure_every): #measure every 20 minutes for the measurement period\n",
        "  minute = minute + measure_every  #add specified # of minutes to our clock\n",
        "\n",
        "  if minute >= 60:  #if we get above 60 minutes move our clock up an hour, if we've moved more than 24 hours move it up a day, etc\n",
        "    minute = minute -60\n",
        "    hour = hour + 1\n",
        "    if hour >= 24:\n",
        "      hour = hour -24\n",
        "      day = day +1\n",
        "      if ((month == 1,3,5,7,8,10,12) and (day > 31)): #If only all the months were the same lenght... If only I could spell lenghth\n",
        "        day = day - 31\n",
        "        month = month +1\n",
        "      elif ((month == 4,6,9,11) and (day >30)):\n",
        "        day = day - 30\n",
        "        month = month + 1\n",
        "      elif ((month == 2)and (day>28)):\n",
        "        day = day - 28\n",
        "        month = month + 1\n",
        "\n",
        "  else:\n",
        "    time = datetime(year, month, day, hour, minute)  #make our clock readable \n",
        "    coords = orbit.get_lonlatalt(time)  #get coords at specified time\n",
        "    lon, lat, alt = coords  #name each value in coords tuple\n",
        "\n",
        "    time_radbelt = Time(time) #make our clock readable for radbelt\n",
        "    coords_radbelt = EarthLocation(lon * u.deg, lat * u.deg, alt * u.km) #make our coordinates readable for radbelt\n",
        "    flux = get_flux(coords_radbelt, time_radbelt, energy * u.MeV, 'p', 'max') #get the flux\n",
        "\n",
        "    lon_list.append(lon)  #record latitude longitude and time ellapsed values\n",
        "    lat_list.append(lat)\n",
        "    timecount_list.append(timecount) #this is time ellapsed not clock time\n",
        "    flux_list.append(flux.value)\n",
        "else:\n",
        "  # print(timecount_list)\n",
        "  # print(lon_list)\n",
        "  # print(lat_list)\n",
        "  # print(flux_list)\n",
        "\n",
        "#plotting:\n",
        "  plt.scatter(timecount_list,flux_list)\n",
        "  plt.xlabel(\"time (minutes)\")\n",
        "  plt.ylabel(\"flux (1/cm^2)\")\n",
        "  #plt.yscale(\"log\")\n",
        "  plt.title('Flux vs Time of ' + str(energy) + ' Mev protons, measured every ' + str(measure_every) + ' minutes')\n",
        "  plt.show ()\n",
        "\n",
        "  plt.scatter(lon_list, lat_list, c = flux_list, cmap=\"magma_r\")\n",
        "  cbar = plt.colorbar()\n",
        "  cbar.set_label(\"Flux (1/cm^2)\")\n",
        "  plt.xlabel('Longitude')          \n",
        "  plt.ylabel('Latitude')\n",
        "  plt.title(str(energy) + \" Mev protons along the satellite's orbit, measured over \" + str(measurement_period) + \" days\")\n",
        "  plt.show()\n",
        "\n",
        "\n",
        "  flux_array = np.array(flux_list) #make array of flux values\n",
        "\n",
        "\n",
        "#Take trapezoidal approximation of integral flux\n",
        "  flux_integral = np.trapz(flux_array, dx = measure_every)\n",
        "  print(\"The total flux over a \" + str(measurement_period) +  \" day period is \"+str(flux_integral) + \" protons /cm^2 \")\n",
        "\n",
        "#find average of flux values\n",
        "  flux_avg = np.average(flux_array)\n",
        "  print(\"The average flux per minute is \" + str(flux_avg) + \" 1Mev protons /cm^2\")\n",
        "\n",
        "#find median of flux values\n",
        "  flux_med = np.median(flux_array)\n",
        "  print(\"At any given time, the flux has a 50% chance of being above \" + str(flux_med)+ \"and a 50% chance of being below\" + str(flux_med))\n",
        "\n",
        "#find peak of flux values\n",
        "  flux_peak = np.amax(flux_array)\n",
        "  print(\"The flux peaks at \" + str(flux_peak)+\" protons/cm^2\")\n",
        "\n",
        "#find standard deviation\n",
        "  flux_sd = np.std(flux_array)\n",
        "  print(\"The standard deviation is \" + str(flux_sd))\n",
        "\n",
        "#find percent of time that the satalite experiences flux\n",
        "  flux_nozeros = flux_array[flux_array > 0] #create array with no zeroes\n",
        "  flux_percent_nozeroes = 100*len(flux_nozeros)/len(flux_array)\n",
        "  print(\"The satellite experiences \"+str(energy)+\" Mev proton flux for \" + str(np.around(flux_percent_nozeroes,2))+\"% of the \" +str(measurement_period)+ \" day long measurement period\")\n",
        "  \n",
        "\n",
        "  #on_peak = False\n",
        "\n",
        "  # for i in flux_array.flat: #examine every value in our array of fluxes\n",
        "  #   if i >0 :                #if we find a value greater than zero...\n",
        "  #     np.split()\n",
        "  #     onpeak = True\n",
        "  #   else:\n",
        "  #     onpeak = False\n",
        "\n"
      ],
      "metadata": {
        "colab": {
          "base_uri": "https://localhost:8080/",
          "height": 700
        },
        "id": "cdO4eL5LNjuE",
        "outputId": "cbc79581-d169-4388-df1a-685711a46a4b"
      },
      "execution_count": 56,
      "outputs": [
        {
          "output_type": "display_data",
          "data": {
            "text/plain": [
              "<Figure size 432x288 with 1 Axes>"
            ],
            "image/png": "[encoded data removed]"
          },
          "metadata": {
            "needs_background": "light"
          }
        },
        {
          "output_type": "display_data",
          "data": {
            "text/plain": [
              "<Figure size 432x288 with 2 Axes>"
            ],
            "image/png": "[encoded data removed]"
          },
          "metadata": {
            "needs_background": "light"
          }
        },
        {
          "output_type": "stream",
          "name": "stdout",
          "text": [
            "the total flux over a 0.14 day period is 82783.65620160103 protons /cm^2 \n",
            "the average flux per minute is 415.9982723698544 1Mev protons /cm^2\n",
            "at any given time, the flux has a 50% chance of being above 0.0and a 50% chance of being below0.0\n",
            "The flux peaks at 19911.1171875 protons/cm^2\n",
            " the standard deviation is 2301.3329724868104\n",
            "The satellite experiences 1 Mev proton flux for 12.06% of the 0.14 day long measurement period\n"
          ]
        }
      ]
    },
    {
      "cell_type": "code",
      "source": [
        "flux_zeros = flux_array[flux_array == 0]\n",
        "print(flux_zeros)"
      ],
      "metadata": {
        "colab": {
          "base_uri": "https://localhost:8080/"
        },
        "id": "-JZMbIoilLjN",
        "outputId": "9e8d70a2-20b8-4ac4-9844-26f1fdb29475"
      },
      "execution_count": 31,
      "outputs": [
        {
          "output_type": "stream",
          "name": "stdout",
          "text": [
            "[0. 0. 0. ... 0. 0. 0.]\n"
          ]
        }
      ]
    },
    {
      "cell_type": "code",
      "source": [
        "ar = np.array([1,6,4,2,0,2,3,4,3,2,0,7])\n",
        "onpeak = False\n",
        "\n",
        "for i in ar: #examine every value in our array of fluxes\n",
        "    if i > 0 and onpeak == False:\n",
        "      array = np.split(ar,[i])\n",
        "    elif i >0:                #if we find a value greater than zero...     \n",
        "      onpeak = True\n",
        "    else:\n",
        "      onpeak = False\n",
        "else:\n",
        "  print(array)"
      ],
      "metadata": {
        "colab": {
          "base_uri": "https://localhost:8080/"
        },
        "id": "7wAxYT1WpmLo",
        "outputId": "3168321b-3c47-4f2c-e4ef-b0e1f9882560"
      },
      "execution_count": null,
      "outputs": [
        {
          "output_type": "stream",
          "name": "stdout",
          "text": [
            "[array([1, 6, 4, 2, 0, 2, 3]), array([4, 3, 2, 0, 7])]\n"
          ]
        }
      ]
    },
    {
      "cell_type": "markdown",
      "source": [
        "#**Satellites**\n",
        "SHIJIAN-6 05A (SJ-6 05A): One of a pair of Chinese 'technology satellites' (?) probing radiation environment **In polar LEO (~470 km)**\n",
        "\n",
        "STARLINK-3317: daddy elon gets what daddy elon wants. **53.2177 inclination, ~540 km**\n",
        "\n",
        "STARLINK-3155: daddy elon part 2 **53.2166 inclination, ~545 km**\n",
        "\n",
        "->all starlink sattelites are at ~53 incl\n",
        "\n",
        "FGRST (GLAST):Fermi Gamma-ray Space Telescope, making gamma observations from a leo **25.5835 inclination, 550km**"
      ],
      "metadata": {
        "id": "WqBIS8zv2ktk"
      }
    },
    {
      "cell_type": "code",
      "source": [
        ""
      ],
      "metadata": {
        "id": "sd3eXDXIHvN4"
      },
      "execution_count": null,
      "outputs": []
    },
    {
      "cell_type": "code",
      "source": [
        ""
      ],
      "metadata": {
        "id": "0m1NhWe1HvLU"
      },
      "execution_count": null,
      "outputs": []
    }
  ]
}